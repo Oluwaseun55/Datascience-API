{
 "cells": [
  {
   "cell_type": "code",
   "execution_count": 19,
   "id": "dd56359c-4951-49e5-b422-afca273c25e1",
   "metadata": {},
   "outputs": [],
   "source": [
    "import requests\n",
    "import os\n",
    "from PIL import Image\n",
    "from IPython.display import IFrame"
   ]
  },
  {
   "cell_type": "code",
   "execution_count": 22,
   "id": "83f8a2bc-962a-4363-ad53-9cbb5ea7cc0f",
   "metadata": {},
   "outputs": [
    {
     "data": {
      "text/plain": [
       "200"
      ]
     },
     "execution_count": 22,
     "metadata": {},
     "output_type": "execute_result"
    }
   ],
   "source": [
    "url='https://www.ibm.com/'\n",
    "r= requests.get(url)\n",
    "r.status_code"
   ]
  },
  {
   "cell_type": "code",
   "execution_count": 23,
   "id": "18f8270a-01df-41c3-8f10-96df823301cf",
   "metadata": {},
   "outputs": [
    {
     "name": "stdout",
     "output_type": "stream",
     "text": [
      "{'User-Agent': 'python-requests/2.31.0', 'Accept-Encoding': 'gzip, deflate, br, zstd', 'Accept': '*/*', 'Connection': 'keep-alive', 'Cookie': '_abck=B08030304E196A475893BA5EFBA51BC4~-1~YAAQqexlX75g/SqRAQAAjHAzNQyDi5rgoabcXcwKAmPWy8QeLAGjWHJsZ8QqExmkfm/dlMiLSQ6BTUk4gkFYMw0wAM7nzLAuOAR++F9IXgxRYSU6IWfICB95zqJuKlwd3jpHAWbhxst+chfYpGify1E1YtknapKonONO1WYSaJAirKqM/y3X2wjR/Vu7ulxu1GsOEryF8k6/WB43RO4qaTS9+Xm4iO0wzRvMbjuMct7jjMkHnYQjd5sEJWaeyppokEUsWa3+ybRJG3m43XXbTJ25aTLL/np5ivMOL3RkKmQqhsqQM4j+AAfSuQ+9PimE3gZwFinvJx1/Wqk1G5AfRv53pBCg1iWaw+fm5feFi6M7Buqtddo=~-1~-1~-1; bm_sz=D277FEB6104E5BC974A5190565284A05~YAAQqexlX79g/SqRAQAAjHAzNRjJjhOJIcNTBZKVL3i2FyJ9MGnDNcg4r1i1Edv9rleiJhSMITGpUupL8DvnlL1YCf6/bSfwxLKVzfSuy+Yd1nLomhngji8TXzpQqEbzfjgavYNhPdH3j4QFQvOrF2SYKxewChMCvltd5jDVXq2XYNHii5TWp2k3980LpsawFUfr8bUk+kcPCozINNIBTuKPNr9qH0ITdmpi/ccmsqw+aMjvsBsup0d4Td2eDkG4srVQ25YbQHrwshaptL2czL8mFCSozPe0E0tfKQcX9Eu0o+ReRKAMJSJDeBldqcLOEJImAvD6mZJu/gHw77RqYFTlq0wVOVC8FPI=~3621170~4601649'}\n"
     ]
    }
   ],
   "source": [
    "print(r.request.headers)"
   ]
  },
  {
   "cell_type": "code",
   "execution_count": 24,
   "id": "e281e54f-121c-4339-a4d7-b1707a06272f",
   "metadata": {},
   "outputs": [
    {
     "name": "stdout",
     "output_type": "stream",
     "text": [
      "request body: None\n"
     ]
    }
   ],
   "source": [
    "print(\"request body:\" , r.request.body)"
   ]
  },
  {
   "cell_type": "code",
   "execution_count": 25,
   "id": "c09aad66-df7b-4c0b-adc4-e98cbd610d09",
   "metadata": {},
   "outputs": [
    {
     "name": "stdout",
     "output_type": "stream",
     "text": [
      "{'Content-Security-Policy': 'upgrade-insecure-requests', 'x-frame-options': 'SAMEORIGIN', 'Last-Modified': 'Fri, 09 Aug 2024 01:40:46 GMT', 'ETag': '\"25e00-61f363b7bb217-gzip\"', 'Accept-Ranges': 'bytes', 'Content-Type': 'text/html;charset=utf-8', 'X-Content-Type-Options': 'nosniff', 'Cache-Control': 'max-age=600', 'Expires': 'Fri, 09 Aug 2024 03:44:09 GMT', 'X-Akamai-Transformed': '9 24382 0 pmb=mTOE,2', 'Content-Encoding': 'gzip', 'Date': 'Fri, 09 Aug 2024 03:34:09 GMT', 'Content-Length': '24578', 'Connection': 'keep-alive', 'Vary': 'Accept-Encoding', 'Strict-Transport-Security': 'max-age=31536000'}\n"
     ]
    }
   ],
   "source": [
    "header = r.headers\n",
    "print(header)"
   ]
  },
  {
   "cell_type": "code",
   "execution_count": 26,
   "id": "9e891b1e-68c4-46c6-9eb3-56bf8627c7d6",
   "metadata": {},
   "outputs": [
    {
     "data": {
      "text/plain": [
       "'Fri, 09 Aug 2024 03:34:09 GMT'"
      ]
     },
     "execution_count": 26,
     "metadata": {},
     "output_type": "execute_result"
    }
   ],
   "source": [
    "header['date']"
   ]
  },
  {
   "cell_type": "code",
   "execution_count": 27,
   "id": "6489900a-844f-4273-a1df-fe7fdbb2c7e0",
   "metadata": {},
   "outputs": [
    {
     "data": {
      "text/plain": [
       "'text/html;charset=utf-8'"
      ]
     },
     "execution_count": 27,
     "metadata": {},
     "output_type": "execute_result"
    }
   ],
   "source": [
    "header['Content-Type']"
   ]
  },
  {
   "cell_type": "markdown",
   "id": "ac27ef66-8d77-4032-9f25-f8d3686d8538",
   "metadata": {},
   "source": [
    "<h3>Question: Download an image </h3>"
   ]
  },
  {
   "cell_type": "code",
   "execution_count": 28,
   "id": "7e719ac2-e257-45e2-951b-a1151c35e40f",
   "metadata": {},
   "outputs": [],
   "source": [
    "path=os.path.join(os.getcwd(),'image.png')"
   ]
  },
  {
   "cell_type": "code",
   "execution_count": 29,
   "id": "3f4ad07b-42e7-40c2-a5c7-0d7b2cf19d17",
   "metadata": {},
   "outputs": [],
   "source": [
    "with open(path, 'wb') as f:\n",
    "    f.write(r.content)"
   ]
  },
  {
   "cell_type": "markdown",
   "id": "5192884a-92f5-4742-9343-1d358880a3fd",
   "metadata": {},
   "source": [
    "<h3>Question: Download a file </h3>"
   ]
  },
  {
   "cell_type": "code",
   "execution_count": 35,
   "id": "1c07b616-b440-496a-b0f2-6898bbf6bc77",
   "metadata": {},
   "outputs": [],
   "source": [
    "url = 'https://cf-courses-data.s3.us.cloud-object-storage.appdomain.cloud/IBMDeveloperSkillsNetwork-PY0101EN-SkillsNetwork/labs/Module%205/data/Example1.txt'\n",
    "\n",
    "path = os.path.join(os.getcwd(),'Example1.txt')\n",
    "with open(path, 'wb') as f:\n",
    "    f.write(r.content)"
   ]
  },
  {
   "cell_type": "code",
   "execution_count": null,
   "id": "46eb3998-2599-470f-b41b-6abde37b5a90",
   "metadata": {},
   "outputs": [],
   "source": []
  },
  {
   "cell_type": "code",
   "execution_count": null,
   "id": "5c7d5d76-7744-42c8-b865-14c0cbc40461",
   "metadata": {},
   "outputs": [],
   "source": []
  }
 ],
 "metadata": {
  "kernelspec": {
   "display_name": "Python 3 (ipykernel)",
   "language": "python",
   "name": "python3"
  },
  "language_info": {
   "codemirror_mode": {
    "name": "ipython",
    "version": 3
   },
   "file_extension": ".py",
   "mimetype": "text/x-python",
   "name": "python",
   "nbconvert_exporter": "python",
   "pygments_lexer": "ipython3",
   "version": "3.11.7"
  }
 },
 "nbformat": 4,
 "nbformat_minor": 5
}
