{
 "cells": [
  {
   "cell_type": "code",
   "execution_count": 16,
   "id": "73efe173-9ee5-45ca-93ab-e8fbea4aba44",
   "metadata": {},
   "outputs": [
    {
     "name": "stdout",
     "output_type": "stream",
     "text": [
      "https://www.ibm.com/hybrid-cloud?lnk=hpUSbt1\n",
      "https://www.ibm.com/consulting\n"
     ]
    }
   ],
   "source": [
    "import requests\n",
    "from bs4 import BeautifulSoup\n",
    "import pandas as pd\n",
    "\n",
    "url = \"http://www.ibm.com\"\n",
    "data = requests.get(url).text\n",
    "\n",
    "soup = BeautifulSoup(data, \"html.parser\")\n",
    "for link in soup.find_all('a', href=True):\n",
    "    print(link.get('href'))\n",
    "    \n",
    "\n",
    "\n",
    "\n",
    "# for i, body in enumerate ('h1') soup.find_all('h1'):\n",
    "#     print(body)\n"
   ]
  },
  {
   "cell_type": "code",
   "execution_count": 28,
   "id": "7099a5c1-c474-471c-8911-9b02542861af",
   "metadata": {},
   "outputs": [],
   "source": [
    "url = \"https://cf-courses-data.s3.us.cloud-object-storage.appdomain.cloud/IBM-DA0321EN-SkillsNetwork/labs/datasets/HTMLColorCodes.html\"\n",
    "data = requests.get(url).text\n",
    "soup = BeautifulSoup(data, 'html.parser')"
   ]
  },
  {
   "cell_type": "code",
   "execution_count": 29,
   "id": "2788aa1e-4ea4-464f-80e9-fd23d10a638b",
   "metadata": {},
   "outputs": [],
   "source": [
    "for links in soup.find_all('img'):\n",
    "    print(links)\n",
    "    print(links.get('src'))"
   ]
  },
  {
   "cell_type": "code",
   "execution_count": 30,
   "id": "d2e11810-626e-4750-b44b-e71707e7d1a5",
   "metadata": {},
   "outputs": [],
   "source": [
    "data  = requests.get(url).text"
   ]
  },
  {
   "cell_type": "code",
   "execution_count": 31,
   "id": "38f97873-280c-495f-bbad-8072b94f7189",
   "metadata": {},
   "outputs": [],
   "source": [
    "soup = BeautifulSoup(data,\"html5lib\")"
   ]
  },
  {
   "cell_type": "code",
   "execution_count": 53,
   "id": "c992277c-ba53-457d-ac49-a82c49997b3c",
   "metadata": {},
   "outputs": [
    {
     "name": "stdout",
     "output_type": "stream",
     "text": [
      "Color Name--->None\n",
      "lightsalmon--->#FFA07A\n",
      "salmon--->#FA8072\n",
      "darksalmon--->#E9967A\n",
      "lightcoral--->#F08080\n",
      "coral--->#FF7F50\n",
      "tomato--->#FF6347\n",
      "orangered--->#FF4500\n",
      "gold--->#FFD700\n",
      "orange--->#FFA500\n",
      "darkorange--->#FF8C00\n",
      "lightyellow--->#FFFFE0\n",
      "lemonchiffon--->#FFFACD\n",
      "papayawhip--->#FFEFD5\n",
      "moccasin--->#FFE4B5\n",
      "peachpuff--->#FFDAB9\n",
      "palegoldenrod--->#EEE8AA\n",
      "khaki--->#F0E68C\n",
      "darkkhaki--->#BDB76B\n",
      "yellow--->#FFFF00\n",
      "lawngreen--->#7CFC00\n",
      "chartreuse--->#7FFF00\n",
      "limegreen--->#32CD32\n",
      "lime--->#00FF00\n",
      "forestgreen--->#228B22\n",
      "green--->#008000\n",
      "powderblue--->#B0E0E6\n",
      "lightblue--->#ADD8E6\n",
      "lightskyblue--->#87CEFA\n",
      "skyblue--->#87CEEB\n",
      "deepskyblue--->#00BFFF\n",
      "lightsteelblue--->#B0C4DE\n",
      "dodgerblue--->#1E90FF\n"
     ]
    }
   ],
   "source": [
    "table = soup.find('table')\n",
    "\n",
    "for row in table.find_all('tr'):\n",
    "    cols = row.find_all('td')\n",
    "    color_name = cols[2].string\n",
    "    color_code = cols[3].string\n",
    "    print(\"{}--->{}\".format(color_name,color_code))\n",
    "    "
   ]
  },
  {
   "cell_type": "code",
   "execution_count": null,
   "id": "e8f71ca2-cbc2-46ba-9236-111382ab8215",
   "metadata": {},
   "outputs": [],
   "source": []
  },
  {
   "cell_type": "code",
   "execution_count": null,
   "id": "c22b40f3-cb4d-48ba-8b97-37d245a62fc0",
   "metadata": {},
   "outputs": [],
   "source": []
  }
 ],
 "metadata": {
  "kernelspec": {
   "display_name": "Python 3 (ipykernel)",
   "language": "python",
   "name": "python3"
  },
  "language_info": {
   "codemirror_mode": {
    "name": "ipython",
    "version": 3
   },
   "file_extension": ".py",
   "mimetype": "text/x-python",
   "name": "python",
   "nbconvert_exporter": "python",
   "pygments_lexer": "ipython3",
   "version": "3.11.7"
  }
 },
 "nbformat": 4,
 "nbformat_minor": 5
}
