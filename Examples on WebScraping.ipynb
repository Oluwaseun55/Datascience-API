{
 "cells": [
  {
   "cell_type": "code",
   "execution_count": 8,
   "id": "81307f17-1194-42d0-975d-a2f23e034948",
   "metadata": {},
   "outputs": [
    {
     "name": "stdout",
     "output_type": "stream",
     "text": [
      "Requirement already satisfied: bs4 in c:\\users\\deii\\anaconda3\\lib\\site-packages (0.0.2)\n",
      "Requirement already satisfied: beautifulsoup4 in c:\\users\\deii\\anaconda3\\lib\\site-packages (from bs4) (4.12.2)\n",
      "Requirement already satisfied: soupsieve>1.2 in c:\\users\\deii\\anaconda3\\lib\\site-packages (from beautifulsoup4->bs4) (2.5)\n"
     ]
    }
   ],
   "source": [
    "!pip install bs4"
   ]
  },
  {
   "cell_type": "code",
   "execution_count": 19,
   "id": "5214b59a-e2bb-446f-b1e9-3aea1e52b32b",
   "metadata": {},
   "outputs": [
    {
     "name": "stdout",
     "output_type": "stream",
     "text": [
      "Requirement already satisfied: html5lib in c:\\users\\deii\\anaconda3\\lib\\site-packages (1.1)\n",
      "Requirement already satisfied: six>=1.9 in c:\\users\\deii\\anaconda3\\lib\\site-packages (from html5lib) (1.16.0)\n",
      "Requirement already satisfied: webencodings in c:\\users\\deii\\anaconda3\\lib\\site-packages (from html5lib) (0.5.1)\n",
      "Requirement already satisfied: lxml in c:\\users\\deii\\anaconda3\\lib\\site-packages (4.9.3)\n"
     ]
    }
   ],
   "source": [
    "!pip install html5lib\n",
    "!pip install lxml\n",
    "\n"
   ]
  },
  {
   "cell_type": "code",
   "execution_count": 32,
   "id": "2adc94ef-46ca-4879-b11b-d633800b60c3",
   "metadata": {},
   "outputs": [
    {
     "name": "stdout",
     "output_type": "stream",
     "text": [
      "<!DOCTYPE html>\n",
      "<html>\n",
      " <head>\n",
      "  <title>\n",
      "   Page Title\n",
      "  </title>\n",
      " </head>\n",
      " <body>\n",
      "  <h3>\n",
      "   <b id=\"boldest\">\n",
      "    Lebron James\n",
      "   </b>\n",
      "  </h3>\n",
      "  <p>\n",
      "   Salary: $ 92,000,000\n",
      "  </p>\n",
      "  <h3>\n",
      "   Stephen Curry\n",
      "  </h3>\n",
      "  <p>\n",
      "   Salary: $85,000, 000\n",
      "  </p>\n",
      "  <h3>\n",
      "   Kevin Durant\n",
      "  </h3>\n",
      "  <p>\n",
      "   Salary: $73,200, 000\n",
      "  </p>\n",
      " </body>\n",
      "</html>\n",
      "\n"
     ]
    }
   ],
   "source": [
    "from bs4 import BeautifulSoup\n",
    "\n",
    "import requests\n",
    "html=\"<!DOCTYPE html><html><head><title>Page Title</title></head><body><h3><b id='boldest'>Lebron James</b></h3><p> Salary: $ 92,000,000 </p><h3> Stephen Curry</h3><p> Salary: $85,000, 000 </p><h3> Kevin Durant </h3><p> Salary: $73,200, 000</p></body></html>\"\n",
    "soup = BeautifulSoup(html, 'html.parser')\n",
    "print(soup.prettify())\n"
   ]
  },
  {
   "cell_type": "code",
   "execution_count": 33,
   "id": "01081c3d-c028-4a87-9ffb-3ec81c9fac39",
   "metadata": {},
   "outputs": [
    {
     "name": "stdout",
     "output_type": "stream",
     "text": [
      "<title>Page Title</title>\n"
     ]
    }
   ],
   "source": [
    "tag_object = soup.title\n",
    "print(tag_object)"
   ]
  },
  {
   "cell_type": "code",
   "execution_count": 40,
   "id": "97a95b13-8280-46c6-a76b-a5e8b244b3e9",
   "metadata": {},
   "outputs": [],
   "source": [
    "# tag_object = soup.parent\n",
    "# print(tag_object)"
   ]
  },
  {
   "cell_type": "code",
   "execution_count": 46,
   "id": "97460eed-54c5-4375-9b55-16ceaec26822",
   "metadata": {},
   "outputs": [],
   "source": [
    "import requests\n",
    "from bs4 import BeautifulSoup"
   ]
  },
  {
   "cell_type": "code",
   "execution_count": 47,
   "id": "427d3b8c-b2ba-4776-96d1-62c4c16adee4",
   "metadata": {},
   "outputs": [],
   "source": [
    "table=\"<table><tr><td id='flight'>Flight No</td><td>Launch site</td> <td>Payload mass</td></tr><tr> <td>1</td><td><a href='https://en.wikipedia.org/wiki/Florida'>Florida<a></td><td>300 kg</td></tr><tr><td>2</td><td><a href='https://en.wikipedia.org/wiki/Texas'>Texas</a></td><td>94 kg</td></tr><tr><td>3</td><td><a href='https://en.wikipedia.org/wiki/Florida'>Florida<a> </td><td>80 kg</td></tr></table>\""
   ]
  },
  {
   "cell_type": "code",
   "execution_count": 49,
   "id": "40803f86-ef7b-44f9-8ad6-5fe3ce83e3c6",
   "metadata": {},
   "outputs": [
    {
     "data": {
      "text/plain": [
       "[<tr><td id=\"flight\">Flight No</td><td>Launch site</td> <td>Payload mass</td></tr>,\n",
       " <tr> <td>1</td><td><a href=\"https://en.wikipedia.org/wiki/Florida\">Florida<a></a></a></td><td>300 kg</td></tr>,\n",
       " <tr><td>2</td><td><a href=\"https://en.wikipedia.org/wiki/Texas\">Texas</a></td><td>94 kg</td></tr>,\n",
       " <tr><td>3</td><td><a href=\"https://en.wikipedia.org/wiki/Florida\">Florida<a> </a></a></td><td>80 kg</td></tr>]"
      ]
     },
     "execution_count": 49,
     "metadata": {},
     "output_type": "execute_result"
    }
   ],
   "source": [
    "table_bs = BeautifulSoup(table, 'html.parser')\n",
    "table_rows=table_bs.find_all('tr')\n",
    "table_rows"
   ]
  },
  {
   "cell_type": "code",
   "execution_count": 50,
   "id": "fa52ceed-5072-4236-810b-8cf39bb0aa18",
   "metadata": {},
   "outputs": [
    {
     "data": {
      "text/plain": [
       "<tr><td id=\"flight\">Flight No</td><td>Launch site</td> <td>Payload mass</td></tr>"
      ]
     },
     "execution_count": 50,
     "metadata": {},
     "output_type": "execute_result"
    }
   ],
   "source": [
    "first_row = table_rows[0]\n",
    "first_row"
   ]
  },
  {
   "cell_type": "code",
   "execution_count": 51,
   "id": "b0d861f3-cecd-4039-87a9-75ccea65f2f5",
   "metadata": {},
   "outputs": [
    {
     "data": {
      "text/plain": [
       "<td id=\"flight\">Flight No</td>"
      ]
     },
     "execution_count": 51,
     "metadata": {},
     "output_type": "execute_result"
    }
   ],
   "source": [
    "first_row.td"
   ]
  },
  {
   "cell_type": "code",
   "execution_count": 55,
   "id": "f19ac126-48c2-4a9f-acf4-e3911ea5966e",
   "metadata": {},
   "outputs": [
    {
     "name": "stdout",
     "output_type": "stream",
     "text": [
      "0 <tr><td id=\"flight\">Flight No</td><td>Launch site</td> <td>Payload mass</td></tr>\n",
      "1 <tr> <td>1</td><td><a href=\"https://en.wikipedia.org/wiki/Florida\">Florida<a></a></a></td><td>300 kg</td></tr>\n",
      "2 <tr><td>2</td><td><a href=\"https://en.wikipedia.org/wiki/Texas\">Texas</a></td><td>94 kg</td></tr>\n",
      "3 <tr><td>3</td><td><a href=\"https://en.wikipedia.org/wiki/Florida\">Florida<a> </a></a></td><td>80 kg</td></tr>\n"
     ]
    }
   ],
   "source": [
    "for i,  row in enumerate(table_rows):\n",
    "    print(i,row)"
   ]
  },
  {
   "cell_type": "code",
   "execution_count": 73,
   "id": "d6d28346-1c76-4311-8c92-ce6aaca771db",
   "metadata": {},
   "outputs": [
    {
     "name": "stdout",
     "output_type": "stream",
     "text": [
      "0 [<td>3</td>, <td><a href=\"https://en.wikipedia.org/wiki/Florida\">Florida<a> </a></a></td>, <td>80 kg</td>]\n",
      "1 [<td>3</td>, <td><a href=\"https://en.wikipedia.org/wiki/Florida\">Florida<a> </a></a></td>, <td>80 kg</td>]\n",
      "2 [<td>3</td>, <td><a href=\"https://en.wikipedia.org/wiki/Florida\">Florida<a> </a></a></td>, <td>80 kg</td>]\n"
     ]
    }
   ],
   "source": [
    "cells = row.find_all('td')\n",
    "for j, cell in enumerate(cells):\n",
    "    print(j, cells)"
   ]
  },
  {
   "cell_type": "code",
   "execution_count": 71,
   "id": "9568d3d4-3566-4ce8-970c-3ec2e2be30fb",
   "metadata": {},
   "outputs": [],
   "source": [
    "# list_input=table_bs .find_all(name=[\"tr\", \"td\"])\n",
    "# list_input"
   ]
  },
  {
   "cell_type": "code",
   "execution_count": 74,
   "id": "bd48b19b-51f5-466a-a6bd-0ac3a4255587",
   "metadata": {},
   "outputs": [
    {
     "name": "stdout",
     "output_type": "stream",
     "text": [
      "0 <a href=\"https://en.wikipedia.org/wiki/Florida\">Florida<a> </a></a>\n"
     ]
    }
   ],
   "source": [
    "ce = row.find_all('a', href=True)\n",
    "for z, ancho in enumerate(ce):\n",
    "    print(z,ancho)\n"
   ]
  },
  {
   "cell_type": "code",
   "execution_count": 75,
   "id": "3701ed62-8f0b-4f65-939d-ff4710fa32da",
   "metadata": {},
   "outputs": [
    {
     "name": "stdout",
     "output_type": "stream",
     "text": [
      "[<a href=\"https://en.wikipedia.org/wiki/Florida\">Florida<a> </a></a>]\n"
     ]
    }
   ],
   "source": [
    "for  ancho in ce:\n",
    "    print(ce)"
   ]
  },
  {
   "cell_type": "code",
   "execution_count": null,
   "id": "b0864bec-2c36-47c1-ba6c-3d06e691f1e5",
   "metadata": {},
   "outputs": [],
   "source": []
  }
 ],
 "metadata": {
  "kernelspec": {
   "display_name": "Python 3 (ipykernel)",
   "language": "python",
   "name": "python3"
  },
  "language_info": {
   "codemirror_mode": {
    "name": "ipython",
    "version": 3
   },
   "file_extension": ".py",
   "mimetype": "text/x-python",
   "name": "python",
   "nbconvert_exporter": "python",
   "pygments_lexer": "ipython3",
   "version": "3.11.7"
  }
 },
 "nbformat": 4,
 "nbformat_minor": 5
}
