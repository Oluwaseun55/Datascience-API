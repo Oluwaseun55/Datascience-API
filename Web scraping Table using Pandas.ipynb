{
 "cells": [
  {
   "cell_type": "code",
   "execution_count": 39,
   "id": "f93892c9-44fa-4688-b6e2-ca15eadbc966",
   "metadata": {},
   "outputs": [
    {
     "name": "stdout",
     "output_type": "stream",
     "text": [
      "    Rank                                Bank name  \\\n",
      "0      1  Industrial and Commercial Bank of China   \n",
      "1      2               Agricultural Bank of China   \n",
      "2      3                  China Construction Bank   \n",
      "3      4                            Bank of China   \n",
      "4      5                           JPMorgan Chase   \n",
      "..   ...                                      ...   \n",
      "94    95                           Bank of Ningbo   \n",
      "95    96                                SEB Group   \n",
      "96    97                         Raiffeisen Group   \n",
      "97    98                            Handelsbanken   \n",
      "98   100                                      DNB   \n",
      "\n",
      "    Total assets (2023) (US$ billion)  \n",
      "0                             6303.44  \n",
      "1                             5623.12  \n",
      "2                             5400.28  \n",
      "3                             4578.28  \n",
      "4                             3875.39  \n",
      "..                                ...  \n",
      "94                             365.96  \n",
      "95                             358.79  \n",
      "96                             352.87  \n",
      "97                             351.79  \n",
      "98                             339.21  \n",
      "\n",
      "[99 rows x 3 columns]\n"
     ]
    }
   ],
   "source": [
    "import pandas as pd\n",
    "URL = 'https://en.wikipedia.org/wiki/List_of_largest_banks'\n",
    "tables = pd.read_html(URL)\n",
    "df = tables[0]\n",
    "print(df)"
   ]
  },
  {
   "cell_type": "code",
   "execution_count": null,
   "id": "7ad3d4ad-ca1c-460d-bfcb-f7b5ceac1fd4",
   "metadata": {},
   "outputs": [],
   "source": []
  },
  {
   "cell_type": "code",
   "execution_count": 40,
   "id": "b38cb288-43f8-4133-b93d-01ef2d05644c",
   "metadata": {},
   "outputs": [
    {
     "name": "stdout",
     "output_type": "stream",
     "text": [
      "    Country/Territory IMF[1][13]            World Bank[14]             \\\n",
      "    Country/Territory   Forecast       Year       Estimate       Year   \n",
      "0               World  109529216       2024      105435540       2023   \n",
      "1       United States   28781083       2024       27360935       2023   \n",
      "2               China   18532633  [n 1]2024       17794782  [n 3]2023   \n",
      "3             Germany    4591100       2024        4456081       2023   \n",
      "4               Japan    4110452       2024        4212945       2023   \n",
      "..                ...        ...        ...            ...        ...   \n",
      "205          Kiribati        311       2024            279       2023   \n",
      "206             Palau        308       2024            263       2023   \n",
      "207  Marshall Islands        305       2024            284       2023   \n",
      "208             Nauru        161       2024            154       2023   \n",
      "209            Tuvalu         66       2024             62       2023   \n",
      "\n",
      "    United Nations[15]             \n",
      "              Estimate       Year  \n",
      "0            100834796       2022  \n",
      "1             25744100       2022  \n",
      "2             17963170  [n 1]2022  \n",
      "3              4076923       2022  \n",
      "4              4232173       2022  \n",
      "..                 ...        ...  \n",
      "205                223       2022  \n",
      "206                225       2022  \n",
      "207                279       2022  \n",
      "208                147       2022  \n",
      "209                 59       2022  \n",
      "\n",
      "[210 rows x 7 columns]\n"
     ]
    }
   ],
   "source": [
    "import pandas as pd\n",
    "URL = 'https://en.wikipedia.org/wiki/List_of_countries_by_GDP_(nominal)'\n",
    "tables = pd.read_html(URL)\n",
    "df = tables[2]\n",
    "print(df)\n"
   ]
  },
  {
   "cell_type": "code",
   "execution_count": 41,
   "id": "b5cf846d-c31d-49ef-9237-85dff5c21399",
   "metadata": {},
   "outputs": [],
   "source": [
    "df.to_csv('List_countries_gpd.csv', index=False)"
   ]
  },
  {
   "cell_type": "code",
   "execution_count": 42,
   "id": "7161830f-a39d-45b0-b0f9-f1404fd7939c",
   "metadata": {},
   "outputs": [
    {
     "name": "stdout",
     "output_type": "stream",
     "text": [
      "0      Country/Territory\n",
      "1                  World\n",
      "2          United States\n",
      "3                  China\n",
      "4                Germany\n",
      "             ...        \n",
      "206             Kiribati\n",
      "207                Palau\n",
      "208     Marshall Islands\n",
      "209                Nauru\n",
      "210               Tuvalu\n",
      "Name: Country/Territory, Length: 211, dtype: object\n"
     ]
    }
   ],
   "source": [
    "import pandas as pd\n",
    "df = pd.read_csv('List_countries_gpd.csv')\n",
    "# print(df[1:3])\n",
    "print(df['Country/Territory'])\n"
   ]
  },
  {
   "cell_type": "code",
   "execution_count": 61,
   "id": "5621a567-ed0a-4367-8baa-fbfab53717a1",
   "metadata": {},
   "outputs": [
    {
     "name": "stdout",
     "output_type": "stream",
     "text": [
      "  Rank                                Bank name  \\\n",
      "0    1  Industrial and Commercial Bank of China   \n",
      "1    2               Agricultural Bank of China   \n",
      "2    3                  China Construction Bank   \n",
      "3    4                            Bank of China   \n",
      "4    5                           JPMorgan Chase   \n",
      "\n",
      "  Total assets(2023)(US$ billion)  \n",
      "0                        6,303.44  \n",
      "1                        5,623.12  \n",
      "2                        5,400.28  \n",
      "3                        4,578.28  \n",
      "4                        3,875.39  \n"
     ]
    }
   ],
   "source": [
    "\n",
    "import requests\n",
    "import pandas as pd\n",
    "from bs4 import BeautifulSoup\n",
    "\n",
    "# Corrected URL format\n",
    "url = \"https://en.wikipedia.org/wiki/List_of_largest_banks\"\n",
    "response = requests.get(url)\n",
    "\n",
    "# Parse the HTML content with BeautifulSoup\n",
    "soup = BeautifulSoup(response.content, 'html.parser')\n",
    "\n",
    "# Find the table you are interested in\n",
    "# For example, if you want the first table on the page\n",
    "table = soup.find('table', {'class': 'wikitable'})\n",
    "\n",
    "# Extract table rows\n",
    "rows = table.find_all('tr')\n",
    "\n",
    "# Extract headers\n",
    "headers = [header.text.strip() for header in rows[0].find_all('th')]\n",
    "\n",
    "# Extract table data\n",
    "data = []\n",
    "for row in rows[1:]:\n",
    "    cells = row.find_all('td')\n",
    "    cells = [cell.text.strip() for cell in cells]\n",
    "    data.append(cells)\n",
    "\n",
    "# Create DataFrame\n",
    "df = pd.DataFrame(data, columns=headers)\n",
    "\n",
    "# Display the DataFrame\n",
    "print(df.head())\n"
   ]
  },
  {
   "cell_type": "code",
   "execution_count": null,
   "id": "ab07051c-273f-4078-aa6d-5ac8dcba6788",
   "metadata": {},
   "outputs": [],
   "source": [
    "import requests\n",
    "from bs4 import BeautifulSoup\n",
    "page = requests.get(\"\"\")\n",
    "soup = BeautifulSoup(page, \"html.parser\")\n",
    "artists =soup.find_all(\"a\")\n",
    "for artist in artists:\n",
    "    name = artists.content[0]\n",
    "    fullLink = artist.get('href')\n",
    "    print(name)\n",
    "    print(fullLink)"
   ]
  }
 ],
 "metadata": {
  "kernelspec": {
   "display_name": "Python 3 (ipykernel)",
   "language": "python",
   "name": "python3"
  },
  "language_info": {
   "codemirror_mode": {
    "name": "ipython",
    "version": 3
   },
   "file_extension": ".py",
   "mimetype": "text/x-python",
   "name": "python",
   "nbconvert_exporter": "python",
   "pygments_lexer": "ipython3",
   "version": "3.11.7"
  }
 },
 "nbformat": 4,
 "nbformat_minor": 5
}
